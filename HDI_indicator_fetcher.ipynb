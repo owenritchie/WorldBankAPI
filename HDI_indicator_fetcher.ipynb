{
 "cells": [
  {
   "cell_type": "code",
   "execution_count": 2,
   "id": "ac323443-0bbf-4220-a8e4-89c14609bf01",
   "metadata": {},
   "outputs": [
    {
     "name": "stdout",
     "output_type": "stream",
     "text": [
      "Saved 577 records to df_HDI.csv\n"
     ]
    }
   ],
   "source": [
    "import requests\n",
    "import pandas as pd\n",
    "\n",
    "def fetch_hdi_data(api_key: str, start_year: int = 2022, n_years: int = 3) -> pd.DataFrame:\n",
    "    base_url = \"https://hdrdata.org/api\"\n",
    "    years = ','.join(str(year) for year in range(start_year, start_year - n_years, -1))\n",
    "    \n",
    "    try:\n",
    "        countries_response = requests.get(f\"{base_url}/Metadata/Countries\", params={'apikey': api_key})\n",
    "        countries_response.raise_for_status()\n",
    "        country_codes = [c['code'] for c in countries_response.json() if c.get('code') and len(c['code']) == 3]\n",
    "        \n",
    "        data_response = requests.get(\n",
    "            f\"{base_url}/CompositeIndices/query\",\n",
    "            params={\n",
    "                'apikey': api_key,\n",
    "                'countryOrAggregation': ','.join(country_codes),\n",
    "                'year': years,\n",
    "                'indicator': 'HDI'\n",
    "            }\n",
    "        )\n",
    "        data_response.raise_for_status()\n",
    "        \n",
    "        results = []\n",
    "        for record in data_response.json():\n",
    "            try:\n",
    "                country_parts = record['country'].split(' - ', 1)\n",
    "                iso3 = country_parts[0] if len(country_parts) == 2 else None\n",
    "                country_name = country_parts[1] if len(country_parts) == 2 else country_parts[0]\n",
    "                \n",
    "                if iso3 and record.get('value') and record.get('year'):\n",
    "                    results.append({\n",
    "                        'country': country_name,\n",
    "                        'iso_3': iso3,\n",
    "                        'year': int(record['year']),\n",
    "                        'value': float(record['value'])\n",
    "                    })\n",
    "            except (KeyError, ValueError, TypeError):\n",
    "                continue\n",
    "        \n",
    "        df = pd.DataFrame(results)\n",
    "        return df.sort_values(['country', 'year'], ascending=[True, False]).reset_index(drop=True)\n",
    "    \n",
    "    except Exception as e:\n",
    "        print(f\"Error fetching data: {e}\")\n",
    "        return pd.DataFrame(columns=['country', 'iso_3', 'year', 'value'])\n",
    "\n",
    "if __name__ == \"__main__\":\n",
    "    api_key = \"YOUR_API_KEY\"\n",
    "    df = fetch_hdi_data(api_key)\n",
    "    \n",
    "    if not df.empty:\n",
    "        df.to_csv('df_HDI.csv', index=False)\n",
    "        print(f\"Saved {len(df)} records to df_HDI.csv\")"
   ]
  }
 ],
 "metadata": {
  "kernelspec": {
   "display_name": "Python 3 (ipykernel)",
   "language": "python",
   "name": "python3"
  },
  "language_info": {
   "codemirror_mode": {
    "name": "ipython",
    "version": 3
   },
   "file_extension": ".py",
   "mimetype": "text/x-python",
   "name": "python",
   "nbconvert_exporter": "python",
   "pygments_lexer": "ipython3",
   "version": "3.12.7"
  }
 },
 "nbformat": 4,
 "nbformat_minor": 5
}
