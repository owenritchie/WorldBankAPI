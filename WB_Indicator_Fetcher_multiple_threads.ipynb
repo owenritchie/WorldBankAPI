{
 "cells": [
  {
   "cell_type": "raw",
   "id": "26e269ed-d579-4fb0-8f9c-793f23384643",
   "metadata": {},
   "source": [
    "This notebook details concurrent fetching of World Bank Development Indicators \n",
    "- Uses all countries (unless specified), n amount of most recent year's data, and indicators as specified\n",
    "\n",
    "Example Output:\n",
    "\n",
    "\tcountry\tiso_3\tyear\tvalue\n",
    "0\tAruba\tABW\t2023\t3.648573e+09\n",
    "1\tAruba\tABW\t2022\t3.279344e+09\n",
    "2\tAruba\tABW\t2021\t2.929447e+09\n",
    "3\tAruba\tABW\t2020\t2.481857e+09\n",
    "4\tAruba\tABW\t2019\t3.395799e+09\n",
    "5\tAruba\tABW\t2018\t3.276184e+09"
   ]
  },
  {
   "cell_type": "code",
   "execution_count": 1,
   "id": "02447e07-e044-498e-8b3d-f43a2f166911",
   "metadata": {},
   "outputs": [],
   "source": [
    "import requests\n",
    "import pandas as pd\n",
    "from concurrent.futures import ThreadPoolExecutor"
   ]
  },
  {
   "cell_type": "markdown",
   "id": "8150d99e-5a9b-473c-bd33-e1fd4523b189",
   "metadata": {},
   "source": [
    "### Get List Of All Countries From API"
   ]
  },
  {
   "cell_type": "code",
   "execution_count": 2,
   "id": "681add0c-315c-4a39-97e7-7328b202c2f7",
   "metadata": {},
   "outputs": [],
   "source": [
    "def get_all_countries():\n",
    "    response = requests.get(\n",
    "        'https://api.worldbank.org/v2/country',\n",
    "        params={'format': 'json', 'per_page': 300}\n",
    "    )\n",
    "    if response.status_code == 200:\n",
    "        return [\n",
    "            country['name'] \n",
    "            for country in response.json()[1] \n",
    "            if country.get('regionCode') is None and country.get('capitalCity')\n",
    "        ]\n",
    "    return []"
   ]
  },
  {
   "cell_type": "markdown",
   "id": "be3fa674-e175-479d-8923-026a2ef0afdd",
   "metadata": {},
   "source": [
    "### Fetch indicator data for a specific country"
   ]
  },
  {
   "cell_type": "code",
   "execution_count": 3,
   "id": "c00f9877-56d0-4195-a623-a8c01f3e1ce1",
   "metadata": {},
   "outputs": [],
   "source": [
    "def fetch_one_country(country, code, indicator, n_recent_years):\n",
    "    try:\n",
    "        response = requests.get(\n",
    "            f'https://api.worldbank.org/v2/country/{code}/indicator/{indicator}',\n",
    "            params={'format': 'json', 'per_page': 100}\n",
    "        )\n",
    "        if response.status_code != 200:\n",
    "            return []\n",
    "        \n",
    "        data = response.json()[1]\n",
    "        \n",
    "        # filter for n_recent_years\n",
    "        valid_data = [entry for entry in data if entry.get('value') is not None]\n",
    "        recent_data = sorted(\n",
    "            valid_data,\n",
    "            key=lambda x: x['date'],\n",
    "            reverse=True\n",
    "        )[:n_recent_years]\n",
    "        \n",
    "        # Format the results\n",
    "        return [{\n",
    "            'country': country,\n",
    "            'iso_3': code,\n",
    "            'year': int(entry['date']),\n",
    "            'value': entry['value']\n",
    "        } for entry in recent_data]\n",
    "    except Exception:\n",
    "        return []"
   ]
  },
  {
   "cell_type": "markdown",
   "id": "08b96d75-3e63-4712-a2f2-fcaadc659a36",
   "metadata": {},
   "source": [
    "### Fetch data for indicators - returns a dictionary of DFs, one for each indicator"
   ]
  },
  {
   "cell_type": "code",
   "execution_count": 4,
   "id": "9e41bd33-a110-4839-bfc0-56434e1ba46b",
   "metadata": {},
   "outputs": [],
   "source": [
    "def fetch_indicators_data(indicators, countries, n_recent_years=3):\n",
    "    \n",
    "    # get country codes\n",
    "    response = requests.get(\n",
    "        'https://api.worldbank.org/v2/country',\n",
    "        params={'format': 'json', 'per_page': 300}\n",
    "    )\n",
    "    code_lookup = {\n",
    "        entity['name'].lower(): entity['id']\n",
    "        for entity in response.json()[1]\n",
    "    }\n",
    "    \n",
    "    # handle single country case\n",
    "    if isinstance(countries, str):\n",
    "        countries = [countries]\n",
    "    \n",
    "    # dictionary to store results\n",
    "    indicator_dfs = {}\n",
    "    \n",
    "    # process each indicator\n",
    "    for indicator in indicators:\n",
    "        # prepare arguments for parallel processing\n",
    "        tasks = [\n",
    "            (country, code_lookup.get(country.lower()), indicator, n_recent_years)\n",
    "            for country in countries\n",
    "            if code_lookup.get(country.lower())  # skip if no valid code\n",
    "        ]\n",
    "        \n",
    "        # fetch data in parallel using threads\n",
    "        results = []\n",
    "        with ThreadPoolExecutor(max_workers=25) as executor:\n",
    "            futures = [\n",
    "                executor.submit(fetch_one_country, country, code, ind, years)\n",
    "                for country, code, ind, years in tasks\n",
    "            ]\n",
    "            for future in futures:\n",
    "                country_data = future.result()\n",
    "                if country_data:\n",
    "                    results.extend(country_data)\n",
    "        \n",
    "        # create df if we got results\n",
    "        if results:\n",
    "            indicator_dfs[indicator] = pd.DataFrame(results)\n",
    "    \n",
    "    return indicator_dfs"
   ]
  },
  {
   "cell_type": "markdown",
   "id": "61e06080-5b4d-4da5-9a2b-90ab50dd493e",
   "metadata": {},
   "source": [
    "### Main function \n",
    "Enter desired indicators here, they will be returned as dataframes.\n",
    "**In order to have them recognized in Power BI, you must assign them to a variable!**\n",
    "For example *_gdp_df = indicator_dataframes.get('NY.GDP.MKTP.CD')*\n",
    "\n",
    "You can also use Pandas to save as a csv (df.to_csv('indicator.csv')"
   ]
  },
  {
   "cell_type": "code",
   "execution_count": 7,
   "id": "f30447a0-7a26-4815-acb0-bbf0fc63804c",
   "metadata": {},
   "outputs": [],
   "source": [
    "def get_world_bank_data():\n",
    "    indicators = [\n",
    "        'NY.GDP.MKTP.CD',  # GDP (current US$)\n",
    "        # add more indicators here as needed\n",
    "    ]\n",
    "    \n",
    "    countries = get_all_countries()\n",
    "    return fetch_indicators_data(indicators, countries, n_recent_years=3)\n",
    "\n",
    "# call the above function\n",
    "indicator_dataframes = get_world_bank_data()\n",
    "# the gdp dataframe will be available using the following line \n",
    "gdp_df = indicator_dataframes.get('NY.GDP.MKTP.CD')\n",
    "gdp_df.to_csv('GDP_current_us.csv', index = False)"
   ]
  }
 ],
 "metadata": {
  "kernelspec": {
   "display_name": "Python 3 (ipykernel)",
   "language": "python",
   "name": "python3"
  },
  "language_info": {
   "codemirror_mode": {
    "name": "ipython",
    "version": 3
   },
   "file_extension": ".py",
   "mimetype": "text/x-python",
   "name": "python",
   "nbconvert_exporter": "python",
   "pygments_lexer": "ipython3",
   "version": "3.12.7"
  }
 },
 "nbformat": 4,
 "nbformat_minor": 5
}
